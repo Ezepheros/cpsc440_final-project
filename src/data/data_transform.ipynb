{
 "cells": [
  {
   "cell_type": "markdown",
   "id": "92b529c3",
   "metadata": {},
   "source": [
    "## This is to preprocess the kaggle data and split it into train, val, test splits with appropriate target (y) variables"
   ]
  },
  {
   "cell_type": "code",
   "execution_count": 1,
   "id": "77edbebb",
   "metadata": {},
   "outputs": [],
   "source": [
    "import pandas as pd\n",
    "import os\n",
    "import sys\n",
    "import numpy as np\n",
    "import matplotlib.pyplot as plt\n",
    "from pathlib import Path"
   ]
  },
  {
   "cell_type": "markdown",
   "id": "91a9b796",
   "metadata": {},
   "source": [
    "### Set up dataset paths"
   ]
  },
  {
   "cell_type": "code",
   "execution_count": 2,
   "id": "484ffe9b",
   "metadata": {},
   "outputs": [],
   "source": [
    "# To get this working, download the interest, gold and BTC data from the following links:\n",
    "# BTC: https://www.kaggle.com/datasets/prasoonkottarathil/btcinusd?fbclid=IwZXh0bgNhZW0CMTEAAR1nQkLa0WBz1xAmjoehJoNypO13dIIHXqq1lGqC-OQzINtcfUUIdZM1PwE_aem_5o1oGQ7Q57RLLYCH2O3zjw\n",
    "# Interest: https://www.kaggle.com/datasets/federalreserve/interest-rates\n",
    "# Gold: https://www.kaggle.com/datasets/rizkykiky/gold-price-dataset\n",
    "# Make sure to put the files in the same directory as this script or adjust the paths accordingly.\n",
    "\n",
    "BTC_dirname = \"bitcoin_some\"\n",
    "INTEREST_dirname = \"interest_rates\"\n",
    "GOLD_dirname = \"gold_price\"\n",
    "\n",
    "BTC_filename = \"BTC-Daily.csv\"\n",
    "INTEREST_file = \"index.csv\"\n",
    "GOLD_file = \"Daily.csv\"\n",
    "\n",
    "BTC_path = os.path.join(BTC_dirname, BTC_filename)\n",
    "INTEREST_path = os.path.join(INTEREST_dirname, INTEREST_file)\n",
    "GOLD_path = os.path.join(GOLD_dirname, GOLD_file)"
   ]
  },
  {
   "cell_type": "markdown",
   "id": "63b73210",
   "metadata": {},
   "source": [
    "### Read data"
   ]
  },
  {
   "cell_type": "code",
   "execution_count": 3,
   "id": "d33b5466",
   "metadata": {},
   "outputs": [
    {
     "name": "stdout",
     "output_type": "stream",
     "text": [
      "length of BTC_df: 2651\n",
      "            unix       date   symbol    open    high     low   close  \\\n",
      "2650  1417132800 2014-11-28  BTC/USD  363.59  381.34  360.57  376.28   \n",
      "2649  1417219200 2014-11-29  BTC/USD  376.42  386.60  372.25  376.72   \n",
      "2648  1417305600 2014-11-30  BTC/USD  376.57  381.99  373.32  373.34   \n",
      "2647  1417392000 2014-12-01  BTC/USD  376.40  382.31  373.03  378.39   \n",
      "2646  1417478400 2014-12-02  BTC/USD  378.39  382.86  375.23  379.25   \n",
      "\n",
      "      Volume BTC  Volume USD  \n",
      "2650  3220878.18     8617.15  \n",
      "2649  2746157.05     7245.19  \n",
      "2648  1145566.61     3046.33  \n",
      "2647  2520662.37     6660.56  \n",
      "2646  2593576.46     6832.53  \n",
      "         unix       date   symbol      open      high       low     close  \\\n",
      "4  1645747200 2022-02-25  BTC/USD  38360.93  39727.97  38027.61  39231.64   \n",
      "3  1645833600 2022-02-26  BTC/USD  39242.64  40330.99  38600.00  39146.66   \n",
      "2  1645920000 2022-02-27  BTC/USD  39146.66  39886.92  37015.74  37712.68   \n",
      "1  1646006400 2022-02-28  BTC/USD  37717.10  44256.08  37468.99  43178.98   \n",
      "0  1646092800 2022-03-01  BTC/USD  43221.71  43626.49  43185.48  43185.48   \n",
      "\n",
      "    Volume BTC    Volume USD  \n",
      "4  2202.851827  8.642149e+07  \n",
      "3   912.724087  3.573010e+07  \n",
      "2  1701.817043  6.418008e+07  \n",
      "1  3160.618070  1.364723e+08  \n",
      "0    49.006289  2.116360e+06  \n"
     ]
    }
   ],
   "source": [
    "btc_df = pd.read_csv(BTC_path, parse_dates=[\"date\"])\n",
    "btc_df = btc_df.sort_values(by=\"date\")\n",
    "print(f\"length of BTC_df: {len(btc_df)}\")\n",
    "print(btc_df.head())\n",
    "print(btc_df.tail())"
   ]
  },
  {
   "cell_type": "code",
   "execution_count": 4,
   "id": "46c696dc",
   "metadata": {},
   "outputs": [
    {
     "name": "stdout",
     "output_type": "stream",
     "text": [
      "        date  interest_rate  Real GDP (Percent Change)  unemployment_rate  \\\n",
      "0 2014-09-01           0.09                        5.0                5.9   \n",
      "1 2014-10-01           0.09                        2.3                5.7   \n",
      "2 2014-11-01           0.09                        2.3                5.8   \n",
      "3 2014-12-01           0.12                        2.3                5.6   \n",
      "4 2015-01-01           0.11                        2.0                5.7   \n",
      "\n",
      "   inflation_rate  \n",
      "0             1.7  \n",
      "1             1.8  \n",
      "2             1.7  \n",
      "3             1.6  \n",
      "4             1.6  \n"
     ]
    },
    {
     "name": "stderr",
     "output_type": "stream",
     "text": [
      "C:\\Users\\Ethan\\AppData\\Local\\Temp\\ipykernel_42848\\1954680175.py:13: FutureWarning: DataFrame.fillna with 'method' is deprecated and will raise in a future version. Use obj.ffill() or obj.bfill() instead.\n",
      "  interest_df.fillna(method='ffill', inplace=True)\n"
     ]
    }
   ],
   "source": [
    "# interest file has separate columns for \"Year\", \"Month\", \"Day\", need to combine them into one date column\n",
    "interest_df = pd.read_csv(INTEREST_path)\n",
    "interest_df[\"Year_Month_Day\"] = pd.to_datetime(interest_df[[\"Year\", \"Month\", \"Day\"]])\n",
    "interest_df.rename(columns={\"Year_Month_Day\": \"date\"}, inplace=True)\n",
    "interest_df.drop(columns=[\"Year\", \"Month\", \"Day\"], inplace=True)\n",
    "interest_df = interest_df.sort_values('date')\n",
    "interest_df = interest_df[[\"date\", \"Effective Federal Funds Rate\", \"Real GDP (Percent Change)\", \"Unemployment Rate\", \"Inflation Rate\"]]\n",
    "interest_df.rename(columns={\"Effective Federal Funds Rate\": \"interest_rate\",\n",
    "                       \"Real GDP\": \"gdp\", \"Unemployment Rate\": \"unemployment_rate\",\n",
    "                       \"Inflation Rate\": \"inflation_rate\"}, inplace=True)\n",
    "\n",
    "# replace nans with the most recent value\n",
    "interest_df.fillna(method='ffill', inplace=True)\n",
    "# remove all rows with date before 2014-09-01\n",
    "interest_df = interest_df[interest_df[\"date\"] >= \"2014-09-01\"]\n",
    "# remove all rows with date after 2022-03-01\n",
    "interest_df = interest_df[interest_df[\"date\"] <= \"2022-03-01\"]\n",
    "# reset index\n",
    "interest_df.reset_index(drop=True, inplace=True)\n",
    "\n",
    "print(interest_df.head())"
   ]
  },
  {
   "cell_type": "code",
   "execution_count": 5,
   "id": "f95811a7",
   "metadata": {},
   "outputs": [
    {
     "name": "stdout",
     "output_type": "stream",
     "text": [
      "        date  gold_price\n",
      "0 2014-09-01      1286.5\n",
      "1 2014-09-02      1267.0\n",
      "2 2014-09-03      1265.5\n",
      "3 2014-09-04      1271.5\n",
      "4 2014-09-05      1266.0\n",
      "0       1286.5\n",
      "1       1267.0\n",
      "2       1265.5\n",
      "3       1271.5\n",
      "4       1266.0\n",
      "         ...  \n",
      "1952    1904.7\n",
      "1953    1936.3\n",
      "1954    1884.8\n",
      "1955    1909.9\n",
      "1956    1922.0\n",
      "Name: gold_price, Length: 1957, dtype: float64\n"
     ]
    },
    {
     "name": "stderr",
     "output_type": "stream",
     "text": [
      "C:\\Users\\Ethan\\AppData\\Local\\Temp\\ipykernel_42848\\4105426102.py:10: FutureWarning: DataFrame.fillna with 'method' is deprecated and will raise in a future version. Use obj.ffill() or obj.bfill() instead.\n",
      "  gold_df.fillna(method='ffill', inplace=True)\n"
     ]
    }
   ],
   "source": [
    "gold_df = pd.read_csv(GOLD_path, parse_dates=[\"Date\"])\n",
    "gold_df.rename(columns={\"Date\": \"date\"}, inplace=True)\n",
    "gold_df = gold_df.sort_values('date')\n",
    "gold_df = gold_df[[\"date\", \"USD\"]] # keep only the date and USD columns to make things simple\n",
    "gold_df.rename(columns={\"USD\": \"gold_price\"}, inplace=True)\n",
    "gold_df['gold_price'] = gold_df['gold_price'].str.replace(',', '').astype(float)\n",
    "\n",
    "\n",
    "# replace nans with the most recent value\n",
    "gold_df.fillna(method='ffill', inplace=True)\n",
    "# remove all rows with date before 2014-09-01\n",
    "gold_df = gold_df[gold_df[\"date\"] >= \"2014-09-01\"]\n",
    "# remove all rows with date after 2022-03-01\n",
    "gold_df = gold_df[gold_df[\"date\"] <= \"2022-03-01\"]\n",
    "# reset index\n",
    "gold_df.reset_index(drop=True, inplace=True)\n",
    "print(gold_df.head())\n",
    "print(gold_df[\"gold_price\"])"
   ]
  },
  {
   "cell_type": "markdown",
   "id": "8e80236b",
   "metadata": {},
   "source": [
    "### Merge dataframes"
   ]
  },
  {
   "cell_type": "code",
   "execution_count": 6,
   "id": "28c64407",
   "metadata": {},
   "outputs": [
    {
     "name": "stdout",
     "output_type": "stream",
     "text": [
      "        date    open    high     low   close  Volume BTC  Volume USD  \\\n",
      "0 2014-11-28  363.59  381.34  360.57  376.28  3220878.18     8617.15   \n",
      "1 2014-11-29  376.42  386.60  372.25  376.72  2746157.05     7245.19   \n",
      "2 2014-11-30  376.57  381.99  373.32  373.34  1145566.61     3046.33   \n",
      "3 2014-12-01  376.40  382.31  373.03  378.39  2520662.37     6660.56   \n",
      "4 2014-12-02  378.39  382.86  375.23  379.25  2593576.46     6832.53   \n",
      "\n",
      "   interest_rate  Real GDP (Percent Change)  unemployment_rate  \\\n",
      "0           0.09                        2.3                5.8   \n",
      "1           0.09                        2.3                5.8   \n",
      "2           0.09                        2.3                5.8   \n",
      "3           0.12                        2.3                5.6   \n",
      "4           0.12                        2.3                5.6   \n",
      "\n",
      "   inflation_rate  gold_price  \n",
      "0             1.7      1182.8  \n",
      "1             1.7      1182.8  \n",
      "2             1.7      1182.8  \n",
      "3             1.6      1194.0  \n",
      "4             1.6      1195.0  \n"
     ]
    }
   ],
   "source": [
    "# now we merge the dataframes onto the btc_df dataframe where values will be the most recent value before the date based on the date column\n",
    "market_df = pd.merge_asof(\n",
    "    btc_df,\n",
    "    interest_df,\n",
    "    on='date',\n",
    "    direction='backward'\n",
    ")\n",
    "\n",
    "market_df = pd.merge_asof(\n",
    "    market_df,\n",
    "    gold_df,\n",
    "    on='date',\n",
    "    direction='backward'\n",
    ")\n",
    "\n",
    "market_df.drop(columns=[\"unix\", \"symbol\"], inplace=True) # unix is not needed because we have date, symbol is the same for all rows\n",
    "print(market_df.head())\n"
   ]
  },
  {
   "cell_type": "code",
   "execution_count": null,
   "id": "bc1b51d5",
   "metadata": {},
   "outputs": [],
   "source": []
  },
  {
   "cell_type": "code",
   "execution_count": 7,
   "id": "537b1f6c",
   "metadata": {},
   "outputs": [],
   "source": [
    "# # turn 'open', 'close', 'high', 'low', 'Volume BTC', 'Volume USD', 'gold_price' columns into percentage change from last day\n",
    "market_df['open'] = market_df['open'].pct_change()\n",
    "# market_df['close'] = market_df['close'].pct_change()\n",
    "# market_df['high'] = market_df['high'].pct_change()\n",
    "# market_df['low'] = market_df['low'].pct_change()\n",
    "# market_df['Volume BTC'] = market_df['Volume BTC'].pct_change()\n",
    "# market_df['Volume USD'] = market_df['Volume USD'].pct_change()\n",
    "# market_df['gold_price'] = market_df['gold_price'].pct_change()\n",
    "\n",
    "market_df['open'] = market_df['open'].fillna(0)\n",
    "# market_df['close'] = market_df['close'].fillna(0)\n",
    "# market_df['high'] = market_df['high'].fillna(0)\n",
    "# market_df['low'] = market_df['low'].fillna(0)\n",
    "# market_df['Volume BTC'] = market_df['Volume BTC'].fillna(0)\n",
    "# market_df['Volume USD'] = market_df['Volume USD'].fillna(0)\n",
    "# market_df['gold_price'] = market_df['gold_price'].fillna(0)\n",
    "\n",
    "# date = market_df['date']\n",
    "# market_df.drop(columns=[\"date\"], inplace=True) # drop date column for now, we will add it back later\n",
    "\n",
    "# mean = market_df.mean(axis=0)\n",
    "# std = market_df.std(axis=0)\n",
    "# market_df = (market_df - mean) / std # standardize the data\n",
    "\n",
    "# market_df['date'] = date # add date column back\n"
   ]
  },
  {
   "cell_type": "code",
   "execution_count": 8,
   "id": "18a1b4f5",
   "metadata": {},
   "outputs": [],
   "source": [
    "# save the dataframe to a csv file\n",
    "market_df.to_csv(\"market_data_V1.csv\", index=False)\n"
   ]
  }
 ],
 "metadata": {
  "kernelspec": {
   "display_name": "436n",
   "language": "python",
   "name": "python3"
  },
  "language_info": {
   "codemirror_mode": {
    "name": "ipython",
    "version": 3
   },
   "file_extension": ".py",
   "mimetype": "text/x-python",
   "name": "python",
   "nbconvert_exporter": "python",
   "pygments_lexer": "ipython3",
   "version": "3.10.15"
  }
 },
 "nbformat": 4,
 "nbformat_minor": 5
}
